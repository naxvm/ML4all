{
 "cells": [
  {
   "cell_type": "markdown",
   "metadata": {},
   "source": [
    "# Parametric ML and Bayesian regression\n",
    "\n",
    "    Notebook version: 1.2 (Sep 28, 2018)\n",
    "\n",
    "    Authors: Miguel Lázaro Gredilla\n",
    "             Jerónimo Arenas García (jarenas@tsc.uc3m.es)\n",
    "             Jesús Cid Sueiro (jesus.cid@uc3m.es)"
   ]
  },
  {
   "cell_type": "markdown",
   "metadata": {
    "slideshow": {
     "slide_type": "notes"
    }
   },
   "source": [
    "    Changes: v.1.0 - First version. Python version\n",
    "             v.1.1 - Python 3 compatibility. ML section.\n",
    "             v.1.2 - Revised content. 2D visualization removed.\n",
    "    \n",
    "    Pending changes: "
   ]
  },
  {
   "cell_type": "code",
   "execution_count": 1,
   "metadata": {},
   "outputs": [],
   "source": [
    "# Import some libraries that will be necessary for working with data and displaying plots\n",
    "\n",
    "# To visualize plots in the notebook\n",
    "%matplotlib inline \n",
    "\n",
    "import matplotlib\n",
    "import matplotlib.pyplot as plt\n",
    "import matplotlib.cm as cm\n",
    "\n",
    "import numpy as np\n",
    "import scipy.io       # To read matlab files\n",
    "from scipy import spatial\n",
    "import pylab\n",
    "pylab.rcParams['figure.figsize'] = 8, 5"
   ]
  },
  {
   "cell_type": "markdown",
   "metadata": {},
   "source": [
    "## 1. Introduction\n",
    "\n",
    "In this exercise the student will review several key concepts of Maximum Likelihood and Bayesian regression. To do so, we will assume the regression model\n",
    "\n",
    "$$s = f({\\bf x}) + \\varepsilon$$\n",
    "\n",
    "where $s$ is the output corresponding to input ${\\bf x}$, $f({\\bf x})$ is an unobservable latent function, and $\\varepsilon$ is white zero-mean Gaussian noise, i.e., \n",
    "\n",
    "$$\\varepsilon \\sim {\\cal N}(0,\\sigma_\\varepsilon^2).$$\n",
    "\n",
    "In addition, we will assume that the latent function is *linear in the parameters*\n",
    "\n",
    "$$f({\\bf x}) = {\\bf w}^\\top {\\bf z}$$\n",
    "\n",
    "where ${\\bf z} = T({\\bf x})$ is a possibly non-linear transformation of the input. Along this notebook, we will explore different types of transformations.\n",
    "\n",
    "Also, we will assume an <i>a priori</i> distribution for ${\\bf w}$ given by\n",
    "\n",
    "$${\\bf w} \\sim {\\cal N}({\\bf 0}, \\sigma_p^2~{\\bf I})$$\n",
    "\n"
   ]
  },
  {
   "cell_type": "markdown",
   "metadata": {},
   "source": [
    "### Practical considerations\n",
    "\n",
    "   - Though sometimes unavoidable, it is recommended not to use explicit matrix inversion whenever possible. For instance, if an operation like ${\\mathbf A}^{-1} {\\mathbf b}$ must be performed, it is preferable to code it using python $\\mbox{numpy.linalg.lstsq}$ function (see http://docs.scipy.org/doc/numpy/reference/generated/numpy.linalg.lstsq.html), which provides the LS solution to the overdetermined system ${\\mathbf A} {\\mathbf w} = {\\mathbf b}$.\n",
    "   \n",
    "   - Sometimes, the computation of $\\log|{\\mathbf A}|$ (where ${\\mathbf A}$ is a positive definite matrix) can overflow available precision, producing incorrect results. A numerically more stable alternative, providing the same result is $2\\sum_i \\log([{\\mathbf L}]_{ii})$, where $\\mathbf L$ is the Cholesky decomposition of $\\mathbf A$ (i.e., ${\\mathbf A} = {\\mathbf L}^\\top {\\mathbf L}$), and $[{\\mathbf L}]_{ii}$ is the $i$th element of the diagonal of ${\\mathbf L}$.\n",
    "   \n",
    "   - Non-degenerate covariance matrices, such as the ones in this exercise, are always positive definite. It may happen, as a consequence of chained rounding errors, that a matrix which was mathematically expected to be positive definite, turns out not to be so. This implies its Cholesky decomposition will not be available. A quick way to palliate this problem is by adding a small number (such as $10^{-6}$) to the diagonal of such matrix."
   ]
  },
  {
   "cell_type": "markdown",
   "metadata": {},
   "source": [
    "### Reproducibility of computations\n",
    "\n",
    "To guarantee the exact reproducibility of the experiments, it may be useful to start your code initializing the seed of the random numbers generator, so that you can compare your results with the ones given in this notebook."
   ]
  },
  {
   "cell_type": "code",
   "execution_count": 2,
   "metadata": {},
   "outputs": [],
   "source": [
    "np.random.seed(3)"
   ]
  },
  {
   "cell_type": "markdown",
   "metadata": {},
   "source": [
    "## 2. Data generation with a linear model\n",
    "\n",
    "During this section, we will assume affine transformation\n",
    "$${\\bf z} = T({\\bf x}) = (1, {\\bf x}^\\top)^\\top$$.\n",
    "\n",
    "The <i>a priori</i> distribution of ${\\bf w}$ is assumed to be\n",
    "\n",
    "$${\\bf w} \\sim {\\cal N}({\\bf 0}, \\sigma_p^2~{\\bf I})$$"
   ]
  },
  {
   "cell_type": "markdown",
   "metadata": {},
   "source": [
    "### 2.1. Synthetic data generation\n",
    "\n",
    "First, we are going to generate synthetic data (so that we have the ground-truth model) and use them to make sure everything works correctly and our estimations are sensible.\n",
    "\n",
    "* [1] Set parameters $\\sigma_p^2 = 2$ and $\\sigma_{\\varepsilon}^2 = 0.2$. To do so, define variables `sigma_p` and `sigma_eps` containing the respective standard deviations."
   ]
  },
  {
   "cell_type": "code",
   "execution_count": 3,
   "metadata": {},
   "outputs": [],
   "source": [
    "# Parameter settings\n",
    "sigma_p = np.sqrt(2)\n",
    "sigma_eps = np.sqrt(0.2)"
   ]
  },
  {
   "cell_type": "markdown",
   "metadata": {},
   "source": [
    "* [2] Generate a weight vector $\\mbox{true_w}$ with two elements from the <i>a priori</i> distribution of the weights. This vector determines the regression line that we want to find (i.e., the optimum unknown solution)."
   ]
  },
  {
   "cell_type": "code",
   "execution_count": 4,
   "metadata": {},
   "outputs": [
    {
     "name": "stdout",
     "output_type": "stream",
     "text": [
      "The true parameter vector is:\n",
      "[2.52950265 0.61731815]\n"
     ]
    }
   ],
   "source": [
    "# Data dimension:\n",
    "dim_x = 2\n",
    "\n",
    "# Generate a parameter vector taking a random sample from the prior distributions\n",
    "# (the np.random module may be usefull for this purpose)\n",
    "true_w = np.random.normal(loc=0, scale=sigma_p, size=dim_x)\n",
    "\n",
    "print('The true parameter vector is:')\n",
    "print(true_w)"
   ]
  },
  {
   "cell_type": "markdown",
   "metadata": {},
   "source": [
    "* [3] Generate an input matrix ${\\bf X}$ (in this case, a single column) containing 20 samples with equally spaced values between 0 and 2 (method `linspace` from numpy can be useful for this)"
   ]
  },
  {
   "cell_type": "code",
   "execution_count": 5,
   "metadata": {},
   "outputs": [],
   "source": [
    "n_points = 20\n",
    "X = np.linspace(0, 2, 20)[:, np.newaxis]"
   ]
  },
  {
   "cell_type": "markdown",
   "metadata": {},
   "source": [
    "* [4] Finally, generate the output vector ${\\mbox s}$ as the product $\\mbox{X} \\ast \\mbox{true_w}$ plus Gaussian noise of pdf ${\\cal N}(0,\\sigma_\\varepsilon^2)$ at each element."
   ]
  },
  {
   "cell_type": "code",
   "execution_count": 6,
   "metadata": {},
   "outputs": [],
   "source": [
    "# Expand input matrix with an all-ones column\n",
    "col_1 = np.ones((n_points, 1))\n",
    "Z = np.hstack((col_1, X))\n",
    "# Generate values of the target variable\n",
    "s = np.matmul(Z, true_w) + np.random.normal(loc=0, scale=sigma_eps, size=(n_points))"
   ]
  },
  {
   "cell_type": "markdown",
   "metadata": {},
   "source": [
    "### 2.2. Data visualization"
   ]
  },
  {
   "cell_type": "markdown",
   "metadata": {},
   "source": [
    "* Plot the generated data. You will notice a linear behavior, but the presence of noise makes it hard to estimate precisely the original straight line that generated them (which is stored in $\\mbox{true_w}$)."
   ]
  },
  {
   "cell_type": "code",
   "execution_count": 7,
   "metadata": {},
   "outputs": [
    {
     "data": {
      "text/plain": [
       "[<matplotlib.lines.Line2D at 0x19c13361c18>]"
      ]
     },
     "execution_count": 7,
     "metadata": {},
     "output_type": "execute_result"
    },
    {
     "data": {
      "image/png": "[encoded data removed]",
      "text/plain": [
       "<matplotlib.figure.Figure at 0x19c13361780>"
      ]
     },
     "metadata": {},
     "output_type": "display_data"
    }
   ],
   "source": [
    "fig, ax = plt.subplots()\n",
    "\n",
    "ax.plot(X, s)"
   ]
  },
  {
   "cell_type": "markdown",
   "metadata": {},
   "source": [
    "## 3. Maximum Likelihood (ML) regression\n",
    "\n",
    "### 3.1. Likelihood function"
   ]
  },
  {
   "cell_type": "markdown",
   "metadata": {},
   "source": [
    "* [1] Define a function `predict(w, Z)` that computes the linear predictions for all inputs in data matrix `Z` (a 2-D numpy arry), for a given parameter vector `w` (a 1-D numpy array). The output should be a 1-D array. Test your function with the given dataset and `w = [0.4, 0.7]`"
   ]
  },
  {
   "cell_type": "code",
   "execution_count": 8,
   "metadata": {},
   "outputs": [
    {
     "name": "stdout",
     "output_type": "stream",
     "text": [
      "[0.4        0.47368421 0.54736842 0.62105263 0.69473684 0.76842105\n",
      " 0.84210526 0.91578947 0.98947368 1.06315789 1.13684211 1.21052632\n",
      " 1.28421053 1.35789474 1.43157895 1.50526316 1.57894737 1.65263158\n",
      " 1.72631579 1.8       ]\n"
     ]
    }
   ],
   "source": [
    "def predict(w, Z):\n",
    "    return np.matmul(Z, w)\n",
    "\n",
    "# Print predictions\n",
    "w = np.array([0.4, 0.7])\n",
    "p = predict(w, Z)\n",
    "print(p)"
   ]
  },
  {
   "cell_type": "markdown",
   "metadata": {},
   "source": [
    "* [2] Define a function `sse(w, Z, s)` that computes the sum of squared errors (SSE) for the linear prediction with parameters `w ` (1D numpy array), inputs `Z `  (2D numpy array) and targets `s ` (1D numpy array). Using this function, compute the SSE of the true parameter vector in `true_w`."
   ]
  },
  {
   "cell_type": "code",
   "execution_count": 9,
   "metadata": {},
   "outputs": [
    {
     "name": "stdout",
     "output_type": "stream",
     "text": [
      " The SSE is: 3.4003613068704324\n"
     ]
    }
   ],
   "source": [
    "def sse(w, Z, s):\n",
    "    pred = predict(w, Z)\n",
    "    return np.sum((pred - s) ** 2)\n",
    "\n",
    "# SSE causado por el ruido, con los parámetros óptimos (los conocemos ya: true_w)\n",
    "SSE = sse(true_w, Z, s)\n",
    "print(\" The SSE is: {0}\".format(SSE))"
   ]
  },
  {
   "cell_type": "markdown",
   "metadata": {},
   "source": [
    "* [3] Define a function `likelihood(w, Z, s, sigma_eps)` that computes the likelihood of parameter vector `w` for a given dataset in matrix `Z` and vector `s`, assuming Gaussian noise with varianze $\\sigma_\\epsilon^2$. Note that this function can use the `sse` function defined above. Using this function, compute the likelihood of the true parameter vector in `true_w`."
   ]
  },
  {
   "cell_type": "code",
   "execution_count": 10,
   "metadata": {},
   "outputs": [
    {
     "name": "stdout",
     "output_type": "stream",
     "text": [
      "The likelihood of the true parameter vector is 2.0701698520505036e-05\n"
     ]
    }
   ],
   "source": [
    "def likelihood(w, Z, s, sigma_eps):\n",
    "    K = len(s)\n",
    "    lw = 1.0 / (np.sqrt(2*np.pi)*sigma_eps)**K * np.exp(- sse(w, Z, s)/(2*sigma_eps**2))\n",
    "    return lw\n",
    "\n",
    "L_w_true = likelihood(true_w, Z, s, sigma_eps)\n",
    "\n",
    "print(\"The likelihood of the true parameter vector is {0}\".format(L_w_true))"
   ]
  },
  {
   "cell_type": "markdown",
   "metadata": {},
   "source": [
    "* [4] Define a function `LL(w, Z, s, sigma_eps)` that computes the log-likelihood of parameter vector `w` for a given dataset in matrix `Z` and vector `s`, assuming Gaussian noise with varianze $\\sigma_\\epsilon^2$. Note that this function can use the `likelihood` function defined above. However, for a higher numerical precission, implemening a direct expression for the log-likelihood is recommended. \n",
    "\n",
    "   Using this function, compute the likelihood of the true parameter vector in `true_w`."
   ]
  },
  {
   "cell_type": "code",
   "execution_count": 11,
   "metadata": {
    "scrolled": true
   },
   "outputs": [
    {
     "name": "stdout",
     "output_type": "stream",
     "text": [
      "The log-likelihood of the true parameter vector is -10.78529480692853\n"
     ]
    }
   ],
   "source": [
    "def LL(w, Z, s, sigma_eps):\n",
    "    K = len(s)\n",
    "    lw = -K*np.log(np.sqrt(2*np.pi)*sigma_eps) - sse(w, Z, s)/(2*sigma_eps**2)\n",
    "    return lw\n",
    "\n",
    "LL_w_true = LL(true_w, Z, s, sigma_eps)\n",
    "print(\"The log-likelihood of the true parameter vector is {0}\".format(LL_w_true))"
   ]
  },
  {
   "cell_type": "markdown",
   "metadata": {},
   "source": [
    "### 3.2. ML estimate\n",
    "\n",
    "* [1] Compute the ML estimate of ${\\bf w}$ given the data. Remind that using `np.linalg.lstsq` ia a better option than a direct implementation of the formula of the ML estimate, that would involve a matrix inversion."
   ]
  },
  {
   "cell_type": "code",
   "execution_count": 12,
   "metadata": {},
   "outputs": [
    {
     "name": "stdout",
     "output_type": "stream",
     "text": [
      "[2.39342127 0.63211186]\n"
     ]
    }
   ],
   "source": [
    "w_ML = np.linalg.lstsq(Z, s, rcond=None)[0]\n",
    "\n",
    "print(w_ML)"
   ]
  },
  {
   "cell_type": "markdown",
   "metadata": {},
   "source": [
    "* [2] Compute the maximum likelihood, and the maximum log-likelihood."
   ]
  },
  {
   "cell_type": "code",
   "execution_count": 13,
   "metadata": {},
   "outputs": [
    {
     "name": "stdout",
     "output_type": "stream",
     "text": [
      "Maximum likelihood: 4.3370620534450416e-05\n",
      "Maximum log-likelihood: -10.045728292300279\n"
     ]
    }
   ],
   "source": [
    "L_w_ML = likelihood(w_ML, Z, s, sigma_eps)\n",
    "LL_w_ML = LL(w_ML, Z, s, sigma_eps)\n",
    "\n",
    "print('Maximum likelihood: {0}'.format(L_w_ML))\n",
    "print('Maximum log-likelihood: {0}'.format(LL_w_ML))"
   ]
  },
  {
   "cell_type": "markdown",
   "metadata": {},
   "source": [
    "Just as an illustration, the code below generates a set of points in a two dimensional grid going from $(-\\sigma_p, -\\sigma_p)$ to $(\\sigma_p, \\sigma_p)$, computes the log-likelihood for all these points and visualize them using a 2-dimensional plot. You can see the difference between the true value of the parameter ${\\bf w}$ (black) and the ML estimate (red). If they are not quite close to each other, maybe you have made some mistake in the above exercises:"
   ]
  },
  {
   "cell_type": "code",
   "execution_count": 14,
   "metadata": {},
   "outputs": [
    {
     "data": {
      "image/png": "[encoded data removed]",
      "text/plain": [
       "<matplotlib.figure.Figure at 0x19c14b86518>"
      ]
     },
     "metadata": {},
     "output_type": "display_data"
    }
   ],
   "source": [
    "# First construct a grid of (theta0, theta1) parameter pairs and their\n",
    "# corresponding cost function values.\n",
    "N = 200    # Number of points along each dimension.\n",
    "w0_grid = np.linspace(-2.5*sigma_p, 2.5*sigma_p, N)\n",
    "w1_grid = np.linspace(-2.5*sigma_p, 2.5*sigma_p, N)\n",
    "\n",
    "Lw = np.zeros((N,N))\n",
    "# Fill Lw with the likelihood values\n",
    "for i, w0i in enumerate(w0_grid):\n",
    "    for j, w1j in enumerate(w1_grid):\n",
    "        we = np.array((w0i, w1j)) \n",
    "        Lw[i, j] = LL(we, Z, s, sigma_eps)\n",
    "\n",
    "WW0, WW1 = np.meshgrid(w0_grid, w1_grid, indexing='ij')\n",
    "contours = plt.contour(WW0, WW1, Lw, 20)\n",
    "\n",
    "plt.figure\n",
    "plt.clabel(contours)\n",
    "plt.scatter([true_w[0]]*2, [true_w[1]]*2, s=[50,10], color=['k','w'])\n",
    "plt.scatter([w_ML[0]]*2, [w_ML[1]]*2, s=[50,10], color=['r','w'])\n",
    "plt.xlabel('$w_0$')\n",
    "plt.ylabel('$w_1$')\n",
    "plt.show()"
   ]
  },
  {
   "cell_type": "markdown",
   "metadata": {},
   "source": [
    "### 3.3. [OPTIONAL]: Convergence of the ML estimate for the true model\n",
    "\n",
    "Note that the likelihood of the true parameter vector is, in general, smaller than that of the ML estimate. However, as the sample size increasis, both should converge to the same value.\n",
    "\n",
    "* [1] Generate a longer dataset, with $K_\\text{max}=2^{16}$ samples, uniformly spaced between 0 and 2. Store it in the 2D-array `X2` and the 1D-array `s2`"
   ]
  },
  {
   "cell_type": "code",
   "execution_count": 15,
   "metadata": {},
   "outputs": [],
   "source": [
    "# Parameter settings\n",
    "x_min = 0\n",
    "x_max = 2\n",
    "n_points = 2**16\n",
    "\n",
    "X2 = np.random.uniform(0, 2, n_points)\n",
    "# s2 = "
   ]
  },
  {
   "cell_type": "markdown",
   "metadata": {},
   "source": [
    "* [2] Compute the ML estimate based on the first $2^k$ samples, for $k=2,3,\\ldots, 15$. For each value of $k$ compute the squared euclidean distance between the true parameter vector and the ML estimate. Represent it graphically (using a logarithmic scale in the y-axis)."
   ]
  },
  {
   "cell_type": "code",
   "execution_count": 17,
   "metadata": {},
   "outputs": [],
   "source": [
    "# <SOL>\n",
    "# </SOL>"
   ]
  },
  {
   "cell_type": "markdown",
   "metadata": {},
   "source": [
    "## 4. ML estimation with real data. The stocks dataset.\n",
    "\n",
    "Once our code has been tested on synthetic data, we will use it with real data. "
   ]
  },
  {
   "cell_type": "markdown",
   "metadata": {},
   "source": [
    "### 4.1. Dataset"
   ]
  },
  {
   "cell_type": "markdown",
   "metadata": {},
   "source": [
    "* [1] Load data corresponding to the evolution of the stocks of 10 airline companies. This data set is an adaptation of the Stock dataset from http://www.dcc.fc.up.pt/~ltorgo/Regression/DataSets.html, which in turn was taken from the StatLib Repository, http://lib.stat.cmu.edu/"
   ]
  },
  {
   "cell_type": "code",
   "execution_count": 18,
   "metadata": {},
   "outputs": [],
   "source": [
    "matvar = scipy.io.loadmat('DatosLabReg.mat')\n",
    "Xtrain = matvar['Xtrain']\n",
    "Xtest = matvar['Xtest']\n",
    "strain = matvar['Ytrain']\n",
    "stest = matvar['Ytest']"
   ]
  },
  {
   "cell_type": "markdown",
   "metadata": {},
   "source": [
    "* [2] Normalize the data so all training sample components have zero mean and unit standard deviation. Store the normalized training and test samples in 2D numpy arrays `Xtrain` and `Xtest`, respectively."
   ]
  },
  {
   "cell_type": "code",
   "execution_count": 19,
   "metadata": {},
   "outputs": [],
   "source": [
    "from sklearn.preprocessing import StandardScaler\n",
    "\n",
    "scaler = StandardScaler()\n",
    "Xtrain = scaler.fit_transform(Xtrain)\n",
    "Xtest = scaler.transform(Xtest)"
   ]
  },
  {
   "cell_type": "markdown",
   "metadata": {},
   "source": [
    "### 4.2. Polynomial ML regression with a single variable\n",
    "\n",
    "In this first part, we will work with the first component of the input only."
   ]
  },
  {
   "cell_type": "markdown",
   "metadata": {},
   "source": [
    "* [1] Take the first column of `Xtrain` and `Xtest` into arrays `X0train` and `X0test`, respectively. "
   ]
  },
  {
   "cell_type": "code",
   "execution_count": 46,
   "metadata": {},
   "outputs": [],
   "source": [
    "X0train = Xtrain[:,0]\n",
    "X0test = Xtest[:,0]"
   ]
  },
  {
   "cell_type": "markdown",
   "metadata": {},
   "source": [
    "* [2] Visualize, in a single scatter plot, the target variable (in the vertical axes) versus the input variable, using the training data"
   ]
  },
  {
   "cell_type": "code",
   "execution_count": 26,
   "metadata": {},
   "outputs": [
    {
     "data": {
      "text/plain": [
       "Text(0.5,1,'Target vs. first feature')"
      ]
     },
     "execution_count": 26,
     "metadata": {},
     "output_type": "execute_result"
    },
    {
     "data": {
      "image/png": "[encoded data removed]",
      "text/plain": [
       "<matplotlib.figure.Figure at 0x19c163c6240>"
      ]
     },
     "metadata": {},
     "output_type": "display_data"
    }
   ],
   "source": [
    "fig, ax = plt.subplots()\n",
    "\n",
    "ax.scatter(X0train, strain)\n",
    "ax.set_title('Target vs. first feature')"
   ]
  },
  {
   "cell_type": "markdown",
   "metadata": {},
   "source": [
    "* [3] Since the data have been taken from a real scenario, we do not have any *true* mathematical model of the process that generated the data. Thus, we will explore different models trying to take the one that fits better the training data.\n",
    "\n",
    "  Assume a polinomial model given by\n",
    "  $$\n",
    "  {\\bf z} = T({\\bf x}) = (1, x_0, x_0^2, \\ldots, x_0^{g-1})^\\top.\n",
    "  $$\n",
    "\n",
    "  Compute matrices `Ztrain` and `Ztest` that result from applying the polynomial transformation to the inputs in `X0train` and `X0test` for a model with degree `g_max = 50`. The `np.vander()` method may be useful for this.\n",
    "  \n",
    "  Note that, despite `X0train` and `X0test` where normalized, you will need to re-normalize the transformed variables.\n",
    "  \n",
    "  Note, also, that the first component of the transformed variables, which must be equal to 1, should not be normalized. To simplify the job, the code below defines a normalizer class that performs normalization to all components unless for the first one."
   ]
  },
  {
   "cell_type": "code",
   "execution_count": 54,
   "metadata": {},
   "outputs": [],
   "source": [
    "# The following normalizer will be helpful: it normalizes all components of the \n",
    "# input matrix, unless for the first one (the \"all-one's\" column) that\n",
    "# should not be normalized\n",
    "class Normalizer():\n",
    "    \"\"\"\n",
    "    A data normalizer. Usage:\n",
    "        nm = Normalizer()\n",
    "        Z = nm.fit_transform(X)  # to estimate the normalization mean and variance an normalize \n",
    "                                 # all columns of X unles the first one\n",
    "        Z2 = nm.transform(X)     # to normalize X without recomputing mean and variance parameters\n",
    "   \"\"\"\n",
    "    \n",
    "    def fit_transform(self, Z):\n",
    "        \n",
    "        self.mean_z = np.mean(Z, axis=0)\n",
    "        self.mean_z[0] = 0\n",
    "        self.std_z = np.std(Z, axis=0)\n",
    "        self.std_z[0] = 1\n",
    "        Zout = (Z - self.mean_z) / self.std_z\n",
    "        \n",
    "        # sc = StandardScaler()\n",
    "        # Ztrain = sc.fit_transform(Ztrain)\n",
    "        return Zout\n",
    "        \n",
    "    def transform(self, Z):        \n",
    "        return (Z - self.mean_z) / self.std_z\n",
    "        # Ztest = sc.transform(Ztest)\n",
    "        \n",
    "# Set the maximum degree of the polynomial model\n",
    "g_max = 50\n",
    "\n",
    "# Compute polynomial transformation for train and test data\n",
    "norm = Normalizer()\n",
    "\n",
    "# Normalize training and test data \n",
    "Ztrain = norm.fit_transform(np.vander(X0train, g_max, increasing=True))\n",
    "Ztest = norm.transform(np.vander(X0test, g_max, increasing=True))"
   ]
  },
  {
   "cell_type": "markdown",
   "metadata": {},
   "source": [
    "* [4] Fit a polynomial model with degree $g$ for $g$ ranging from 0 to `g_max`. Store the weights of all models in a list of weight vectors, named `models`, such that `models[g]` returns the parameters estimated for the polynomial model with degree $g$. \n",
    "\n",
    "  We will use these models in the following sections."
   ]
  },
  {
   "cell_type": "code",
   "execution_count": 77,
   "metadata": {
    "scrolled": false
   },
   "outputs": [],
   "source": [
    "# IMPORTANT NOTE: Use np.linalg.lstsq() with option rcond=-1 for better precission.\n",
    "\n",
    "# HINT: Take into account that the data matrix required to fit a polynomial model \n",
    "#       with degree g consists of the first g+1 columns of Ztrain.\n",
    "w_ML = []\n",
    "for g in range(g_max+1):\n",
    "    w_ML.append(np.linalg.lstsq(Ztrain[:,:g+1], strain, rcond=-1)[0])\n"
   ]
  },
  {
   "cell_type": "markdown",
   "metadata": {},
   "source": [
    "* [5] Plot the polynomial models with degrees 1, 3 and `g_max`, superimposed over a scatter plot of the training data."
   ]
  },
  {
   "cell_type": "code",
   "execution_count": 103,
   "metadata": {},
   "outputs": [
    {
     "data": {
      "image/png": "[encoded data removed]",
      "text/plain": [
       "<matplotlib.figure.Figure at 0x19c16b7def0>"
      ]
     },
     "metadata": {},
     "output_type": "display_data"
    }
   ],
   "source": [
    "# Create a grid of samples along the x-axis.\n",
    "n_points = 10000\n",
    "xmin = min(X0train)\n",
    "xmax = max(X0train)\n",
    "X = np.linspace(xmin, xmax, n_points)[:, np.newaxis]\n",
    "\n",
    "# Apply the polynomial transformation to the inputs with degree g_max.\n",
    "predictions_50 = np.matmul(Z, w_ML[-1])\n",
    "predictions_1 = np.matmul(Z[:,:2], w_ML[1])\n",
    "predictions_3 = np.matmul(Z[:,:4], w_ML[3])\n",
    "\n",
    "# Plot training points\n",
    "plt.plot(X0train, strain, 'b.', markersize=4);\n",
    "plt.xlabel('$x$',fontsize=14);\n",
    "plt.ylabel('$s$',fontsize=14);\n",
    "plt.xlim(xmin, xmax)\n",
    "plt.ylim(30, 65)\n",
    "\n",
    "# Plot the regresion function for the required degrees\n",
    "plt.plot(X0train, predictions_1, 'r*', markersize=3)\n",
    "plt.plot(X0train, predictions_3, 'yv', markersize=3)\n",
    "plt.plot(X0train, predictions_50, 'ko', markersize=2)\n",
    "\n",
    "plt.legend(['Real data', 'g=1', 'g=3', 'g=50'], loc='best')\n",
    "plt.tight_layout()\n",
    "plt.show()\n",
    "\n"
   ]
  },
  {
   "cell_type": "markdown",
   "metadata": {},
   "source": [
    "* [6] Taking `sigma_eps = 1`, show, in the same plot:\n",
    "\n",
    "  - The log-likelihood function corresponding to each model, as a function of $g$, computed over the training set.\n",
    "  - The log-likelihood function corresponding to each model, as a function of $g$, computed over the test set.\n",
    "  \n",
    "  "
   ]
  },
  {
   "cell_type": "code",
   "execution_count": 110,
   "metadata": {},
   "outputs": [
    {
     "name": "stdout",
     "output_type": "stream",
     "text": [
      "0\n",
      "1\n",
      "2\n",
      "3\n",
      "4\n",
      "5\n",
      "6\n",
      "7\n",
      "8\n",
      "9\n",
      "10\n",
      "11\n",
      "12\n",
      "13\n",
      "14\n",
      "15\n",
      "16\n",
      "17\n",
      "18\n",
      "19\n",
      "20\n",
      "21\n",
      "22\n",
      "23\n",
      "24\n",
      "25\n",
      "26\n",
      "27\n",
      "28\n",
      "29\n",
      "30\n",
      "31\n",
      "32\n",
      "33\n",
      "34\n",
      "35\n",
      "36\n",
      "37\n",
      "38\n",
      "39\n",
      "40\n",
      "41\n",
      "42\n",
      "43\n",
      "44\n",
      "45\n",
      "46\n",
      "47\n",
      "48\n",
      "49\n",
      "50\n"
     ]
    },
    {
     "ename": "ValueError",
     "evalue": "x and y must have same first dimension, but have shapes (51,) and (0,)",
     "output_type": "error",
     "traceback": [
      "\u001b[1;31m---------------------------------------------------------------------------\u001b[0m",
      "\u001b[1;31mValueError\u001b[0m                                Traceback (most recent call last)",
      "\u001b[1;32m<ipython-input-110-a20829ae852f>\u001b[0m in \u001b[0;36m<module>\u001b[1;34m()\u001b[0m\n\u001b[0;32m     11\u001b[0m \u001b[0mplt\u001b[0m\u001b[1;33m.\u001b[0m\u001b[0mfigure\u001b[0m\u001b[1;33m(\u001b[0m\u001b[1;33m)\u001b[0m\u001b[1;33m\u001b[0m\u001b[0m\n\u001b[0;32m     12\u001b[0m \u001b[0mplt\u001b[0m\u001b[1;33m.\u001b[0m\u001b[0mplot\u001b[0m\u001b[1;33m(\u001b[0m\u001b[0mrange\u001b[0m\u001b[1;33m(\u001b[0m\u001b[0mg_max\u001b[0m \u001b[1;33m+\u001b[0m \u001b[1;36m1\u001b[0m\u001b[1;33m)\u001b[0m\u001b[1;33m,\u001b[0m \u001b[0mLLtrain\u001b[0m\u001b[1;33m,\u001b[0m \u001b[0mlabel\u001b[0m\u001b[1;33m=\u001b[0m\u001b[1;34m'Training'\u001b[0m\u001b[1;33m)\u001b[0m\u001b[1;33m\u001b[0m\u001b[0m\n\u001b[1;32m---> 13\u001b[1;33m \u001b[0mplt\u001b[0m\u001b[1;33m.\u001b[0m\u001b[0mplot\u001b[0m\u001b[1;33m(\u001b[0m\u001b[0mrange\u001b[0m\u001b[1;33m(\u001b[0m\u001b[0mg_max\u001b[0m \u001b[1;33m+\u001b[0m \u001b[1;36m1\u001b[0m\u001b[1;33m)\u001b[0m\u001b[1;33m,\u001b[0m \u001b[0mLLtest\u001b[0m\u001b[1;33m,\u001b[0m \u001b[0mlabel\u001b[0m\u001b[1;33m=\u001b[0m\u001b[1;34m'Test'\u001b[0m\u001b[1;33m)\u001b[0m\u001b[1;33m\u001b[0m\u001b[0m\n\u001b[0m\u001b[0;32m     14\u001b[0m \u001b[0mplt\u001b[0m\u001b[1;33m.\u001b[0m\u001b[0mxlabel\u001b[0m\u001b[1;33m(\u001b[0m\u001b[1;34m'g'\u001b[0m\u001b[1;33m)\u001b[0m\u001b[1;33m\u001b[0m\u001b[0m\n\u001b[0;32m     15\u001b[0m \u001b[0mplt\u001b[0m\u001b[1;33m.\u001b[0m\u001b[0mylabel\u001b[0m\u001b[1;33m(\u001b[0m\u001b[1;34m'Log-likelihood'\u001b[0m\u001b[1;33m)\u001b[0m\u001b[1;33m\u001b[0m\u001b[0m\n",
      "\u001b[1;32m~\\Anac3\\lib\\site-packages\\matplotlib\\pyplot.py\u001b[0m in \u001b[0;36mplot\u001b[1;34m(*args, **kwargs)\u001b[0m\n\u001b[0;32m   3259\u001b[0m                       mplDeprecation)\n\u001b[0;32m   3260\u001b[0m     \u001b[1;32mtry\u001b[0m\u001b[1;33m:\u001b[0m\u001b[1;33m\u001b[0m\u001b[0m\n\u001b[1;32m-> 3261\u001b[1;33m         \u001b[0mret\u001b[0m \u001b[1;33m=\u001b[0m \u001b[0max\u001b[0m\u001b[1;33m.\u001b[0m\u001b[0mplot\u001b[0m\u001b[1;33m(\u001b[0m\u001b[1;33m*\u001b[0m\u001b[0margs\u001b[0m\u001b[1;33m,\u001b[0m \u001b[1;33m**\u001b[0m\u001b[0mkwargs\u001b[0m\u001b[1;33m)\u001b[0m\u001b[1;33m\u001b[0m\u001b[0m\n\u001b[0m\u001b[0;32m   3262\u001b[0m     \u001b[1;32mfinally\u001b[0m\u001b[1;33m:\u001b[0m\u001b[1;33m\u001b[0m\u001b[0m\n\u001b[0;32m   3263\u001b[0m         \u001b[0max\u001b[0m\u001b[1;33m.\u001b[0m\u001b[0m_hold\u001b[0m \u001b[1;33m=\u001b[0m \u001b[0mwashold\u001b[0m\u001b[1;33m\u001b[0m\u001b[0m\n",
      "\u001b[1;32m~\\Anac3\\lib\\site-packages\\matplotlib\\__init__.py\u001b[0m in \u001b[0;36minner\u001b[1;34m(ax, *args, **kwargs)\u001b[0m\n\u001b[0;32m   1715\u001b[0m                     warnings.warn(msg % (label_namer, func.__name__),\n\u001b[0;32m   1716\u001b[0m                                   RuntimeWarning, stacklevel=2)\n\u001b[1;32m-> 1717\u001b[1;33m             \u001b[1;32mreturn\u001b[0m \u001b[0mfunc\u001b[0m\u001b[1;33m(\u001b[0m\u001b[0max\u001b[0m\u001b[1;33m,\u001b[0m \u001b[1;33m*\u001b[0m\u001b[0margs\u001b[0m\u001b[1;33m,\u001b[0m \u001b[1;33m**\u001b[0m\u001b[0mkwargs\u001b[0m\u001b[1;33m)\u001b[0m\u001b[1;33m\u001b[0m\u001b[0m\n\u001b[0m\u001b[0;32m   1718\u001b[0m         \u001b[0mpre_doc\u001b[0m \u001b[1;33m=\u001b[0m \u001b[0minner\u001b[0m\u001b[1;33m.\u001b[0m\u001b[0m__doc__\u001b[0m\u001b[1;33m\u001b[0m\u001b[0m\n\u001b[0;32m   1719\u001b[0m         \u001b[1;32mif\u001b[0m \u001b[0mpre_doc\u001b[0m \u001b[1;32mis\u001b[0m \u001b[1;32mNone\u001b[0m\u001b[1;33m:\u001b[0m\u001b[1;33m\u001b[0m\u001b[0m\n",
      "\u001b[1;32m~\\Anac3\\lib\\site-packages\\matplotlib\\axes\\_axes.py\u001b[0m in \u001b[0;36mplot\u001b[1;34m(self, *args, **kwargs)\u001b[0m\n\u001b[0;32m   1370\u001b[0m         \u001b[0mkwargs\u001b[0m \u001b[1;33m=\u001b[0m \u001b[0mcbook\u001b[0m\u001b[1;33m.\u001b[0m\u001b[0mnormalize_kwargs\u001b[0m\u001b[1;33m(\u001b[0m\u001b[0mkwargs\u001b[0m\u001b[1;33m,\u001b[0m \u001b[0m_alias_map\u001b[0m\u001b[1;33m)\u001b[0m\u001b[1;33m\u001b[0m\u001b[0m\n\u001b[0;32m   1371\u001b[0m \u001b[1;33m\u001b[0m\u001b[0m\n\u001b[1;32m-> 1372\u001b[1;33m         \u001b[1;32mfor\u001b[0m \u001b[0mline\u001b[0m \u001b[1;32min\u001b[0m \u001b[0mself\u001b[0m\u001b[1;33m.\u001b[0m\u001b[0m_get_lines\u001b[0m\u001b[1;33m(\u001b[0m\u001b[1;33m*\u001b[0m\u001b[0margs\u001b[0m\u001b[1;33m,\u001b[0m \u001b[1;33m**\u001b[0m\u001b[0mkwargs\u001b[0m\u001b[1;33m)\u001b[0m\u001b[1;33m:\u001b[0m\u001b[1;33m\u001b[0m\u001b[0m\n\u001b[0m\u001b[0;32m   1373\u001b[0m             \u001b[0mself\u001b[0m\u001b[1;33m.\u001b[0m\u001b[0madd_line\u001b[0m\u001b[1;33m(\u001b[0m\u001b[0mline\u001b[0m\u001b[1;33m)\u001b[0m\u001b[1;33m\u001b[0m\u001b[0m\n\u001b[0;32m   1374\u001b[0m             \u001b[0mlines\u001b[0m\u001b[1;33m.\u001b[0m\u001b[0mappend\u001b[0m\u001b[1;33m(\u001b[0m\u001b[0mline\u001b[0m\u001b[1;33m)\u001b[0m\u001b[1;33m\u001b[0m\u001b[0m\n",
      "\u001b[1;32m~\\Anac3\\lib\\site-packages\\matplotlib\\axes\\_base.py\u001b[0m in \u001b[0;36m_grab_next_args\u001b[1;34m(self, *args, **kwargs)\u001b[0m\n\u001b[0;32m    402\u001b[0m                 \u001b[0mthis\u001b[0m \u001b[1;33m+=\u001b[0m \u001b[0margs\u001b[0m\u001b[1;33m[\u001b[0m\u001b[1;36m0\u001b[0m\u001b[1;33m]\u001b[0m\u001b[1;33m,\u001b[0m\u001b[1;33m\u001b[0m\u001b[0m\n\u001b[0;32m    403\u001b[0m                 \u001b[0margs\u001b[0m \u001b[1;33m=\u001b[0m \u001b[0margs\u001b[0m\u001b[1;33m[\u001b[0m\u001b[1;36m1\u001b[0m\u001b[1;33m:\u001b[0m\u001b[1;33m]\u001b[0m\u001b[1;33m\u001b[0m\u001b[0m\n\u001b[1;32m--> 404\u001b[1;33m             \u001b[1;32mfor\u001b[0m \u001b[0mseg\u001b[0m \u001b[1;32min\u001b[0m \u001b[0mself\u001b[0m\u001b[1;33m.\u001b[0m\u001b[0m_plot_args\u001b[0m\u001b[1;33m(\u001b[0m\u001b[0mthis\u001b[0m\u001b[1;33m,\u001b[0m \u001b[0mkwargs\u001b[0m\u001b[1;33m)\u001b[0m\u001b[1;33m:\u001b[0m\u001b[1;33m\u001b[0m\u001b[0m\n\u001b[0m\u001b[0;32m    405\u001b[0m                 \u001b[1;32myield\u001b[0m \u001b[0mseg\u001b[0m\u001b[1;33m\u001b[0m\u001b[0m\n\u001b[0;32m    406\u001b[0m \u001b[1;33m\u001b[0m\u001b[0m\n",
      "\u001b[1;32m~\\Anac3\\lib\\site-packages\\matplotlib\\axes\\_base.py\u001b[0m in \u001b[0;36m_plot_args\u001b[1;34m(self, tup, kwargs)\u001b[0m\n\u001b[0;32m    382\u001b[0m             \u001b[0mx\u001b[0m\u001b[1;33m,\u001b[0m \u001b[0my\u001b[0m \u001b[1;33m=\u001b[0m \u001b[0mindex_of\u001b[0m\u001b[1;33m(\u001b[0m\u001b[0mtup\u001b[0m\u001b[1;33m[\u001b[0m\u001b[1;33m-\u001b[0m\u001b[1;36m1\u001b[0m\u001b[1;33m]\u001b[0m\u001b[1;33m)\u001b[0m\u001b[1;33m\u001b[0m\u001b[0m\n\u001b[0;32m    383\u001b[0m \u001b[1;33m\u001b[0m\u001b[0m\n\u001b[1;32m--> 384\u001b[1;33m         \u001b[0mx\u001b[0m\u001b[1;33m,\u001b[0m \u001b[0my\u001b[0m \u001b[1;33m=\u001b[0m \u001b[0mself\u001b[0m\u001b[1;33m.\u001b[0m\u001b[0m_xy_from_xy\u001b[0m\u001b[1;33m(\u001b[0m\u001b[0mx\u001b[0m\u001b[1;33m,\u001b[0m \u001b[0my\u001b[0m\u001b[1;33m)\u001b[0m\u001b[1;33m\u001b[0m\u001b[0m\n\u001b[0m\u001b[0;32m    385\u001b[0m \u001b[1;33m\u001b[0m\u001b[0m\n\u001b[0;32m    386\u001b[0m         \u001b[1;32mif\u001b[0m \u001b[0mself\u001b[0m\u001b[1;33m.\u001b[0m\u001b[0mcommand\u001b[0m \u001b[1;33m==\u001b[0m \u001b[1;34m'plot'\u001b[0m\u001b[1;33m:\u001b[0m\u001b[1;33m\u001b[0m\u001b[0m\n",
      "\u001b[1;32m~\\Anac3\\lib\\site-packages\\matplotlib\\axes\\_base.py\u001b[0m in \u001b[0;36m_xy_from_xy\u001b[1;34m(self, x, y)\u001b[0m\n\u001b[0;32m    241\u001b[0m         \u001b[1;32mif\u001b[0m \u001b[0mx\u001b[0m\u001b[1;33m.\u001b[0m\u001b[0mshape\u001b[0m\u001b[1;33m[\u001b[0m\u001b[1;36m0\u001b[0m\u001b[1;33m]\u001b[0m \u001b[1;33m!=\u001b[0m \u001b[0my\u001b[0m\u001b[1;33m.\u001b[0m\u001b[0mshape\u001b[0m\u001b[1;33m[\u001b[0m\u001b[1;36m0\u001b[0m\u001b[1;33m]\u001b[0m\u001b[1;33m:\u001b[0m\u001b[1;33m\u001b[0m\u001b[0m\n\u001b[0;32m    242\u001b[0m             raise ValueError(\"x and y must have same first dimension, but \"\n\u001b[1;32m--> 243\u001b[1;33m                              \"have shapes {} and {}\".format(x.shape, y.shape))\n\u001b[0m\u001b[0;32m    244\u001b[0m         \u001b[1;32mif\u001b[0m \u001b[0mx\u001b[0m\u001b[1;33m.\u001b[0m\u001b[0mndim\u001b[0m \u001b[1;33m>\u001b[0m \u001b[1;36m2\u001b[0m \u001b[1;32mor\u001b[0m \u001b[0my\u001b[0m\u001b[1;33m.\u001b[0m\u001b[0mndim\u001b[0m \u001b[1;33m>\u001b[0m \u001b[1;36m2\u001b[0m\u001b[1;33m:\u001b[0m\u001b[1;33m\u001b[0m\u001b[0m\n\u001b[0;32m    245\u001b[0m             raise ValueError(\"x and y can be no greater than 2-D, but have \"\n",
      "\u001b[1;31mValueError\u001b[0m: x and y must have same first dimension, but have shapes (51,) and (0,)"
     ]
    },
    {
     "data": {
      "image/png": "[encoded data removed]",
      "text/plain": [
       "<matplotlib.figure.Figure at 0x19c19b942b0>"
      ]
     },
     "metadata": {},
     "output_type": "display_data"
    }
   ],
   "source": [
    "LLtrain = []\n",
    "LLtest = []\n",
    "sigma_eps = 1\n",
    "\n",
    "# Fill LLtrain and LLtest with the log-likelihood values for all values of\n",
    "# g ranging from 0 to g_max (included).\n",
    "for g in range(g_max+1):\n",
    "    print(g)\n",
    "    LLtrain.append(LL(w_ML[g], Z[:,:g+1], strain, sigma_eps))\n",
    "\n",
    "plt.figure()\n",
    "plt.plot(range(g_max + 1), LLtrain, label='Training')\n",
    "plt.plot(range(g_max + 1), LLtest, label='Test')\n",
    "plt.xlabel('g')\n",
    "plt.ylabel('Log-likelihood')\n",
    "plt.xlim(0, g_max)\n",
    "plt.ylim(-5e4,100)\n",
    "plt.legend()\n",
    "plt.show()"
   ]
  },
  {
   "cell_type": "code",
   "execution_count": 108,
   "metadata": {},
   "outputs": [
    {
     "data": {
      "text/plain": [
       "(50, 1)"
      ]
     },
     "execution_count": 108,
     "metadata": {},
     "output_type": "execute_result"
    }
   ],
   "source": [
    "w_ML[50].shape"
   ]
  },
  {
   "cell_type": "code",
   "execution_count": 109,
   "metadata": {},
   "outputs": [
    {
     "data": {
      "text/plain": [
       "(760, 50)"
      ]
     },
     "execution_count": 109,
     "metadata": {},
     "output_type": "execute_result"
    }
   ],
   "source": [
    "Z[:,:51].shape"
   ]
  },
  {
   "cell_type": "markdown",
   "metadata": {},
   "source": [
    "* [7] You may have seen the likelihood function over the training data grows with the degree of the polynomial. However, large values of $g$ produce a strong data overfitting. For this reasong, $g$ cannot be selected with the same data used to fit the model. \n",
    "\n",
    "  This kind of parameters, like $g$ are usually called *hyperparameters* and need to be selected by cross validation.\n",
    "\n",
    "  Select the optimal value of $g$ by 10-fold cross-validation. To do so, the cross validation methods provided by sklearn will simplify this task."
   ]
  },
  {
   "cell_type": "code",
   "execution_count": null,
   "metadata": {},
   "outputs": [],
   "source": [
    "from sklearn.model_selection import KFold\n",
    "\n",
    "# Select the number of splits\n",
    "n_sp = 10\n",
    "\n",
    "# Create a cross-validator object\n",
    "kf = KFold(n_splits=n_sp)\n",
    "# Split data from Ztrain\n",
    "kf.get_n_splits(Ztrain)\n",
    "\n",
    "LLmean = []\n",
    "for g in range(g_max + 1):\n",
    "    # Compute the cross-validation Likelihood\n",
    "    LLg = 0\n",
    "    for tr_index, val_index in kf.split(Ztrain):\n",
    "        # Take the data matrices for the current split\n",
    "        Z_tr, Z_val = Ztrain[tr_index, 0:g+1], Ztrain[val_index, 0:g+1]\n",
    "        s_tr, s_val = strain[tr_index], strain[val_index]\n",
    "\n",
    "        # Train with the current training splits.\n",
    "        # w_MLk, _, _, _ = np.linalg.lstsq(<FILL IN>)\n",
    "\n",
    "        # Compute the validation likelihood for this split\n",
    "        # LLg += LL(<FILL IN>)\n",
    "\n",
    "    LLmean.append(LLg / n_sp)\n",
    "\n",
    "# Take the optimal value of g and its correpsponding likelihood\n",
    "# g_opt = <FILL IN>\n",
    "# LLmax = <FILL IN>\n",
    "\n",
    "print(\"The optimal degree is: {}\".format(g_opt))\n",
    "print(\"The maximum cross-validation likehood is {}\".format(LLmax))\n",
    "\n",
    "plt.figure()\n",
    "plt.plot(range(g_max + 1), LLmean, label='Training')\n",
    "plt.plot([g_opt], [LLmax], 'g.', markersize = 20)\n",
    "plt.xlabel('g')\n",
    "plt.ylabel('Log-likelihood')\n",
    "plt.xlim(0, g_max)\n",
    "plt.ylim(-1e3, LLmax + 100)\n",
    "plt.legend()\n",
    "plt.show()"
   ]
  },
  {
   "cell_type": "markdown",
   "metadata": {},
   "source": [
    "* [8] You may have observed the overfitting effect for large values of $g$. The best degree of the polynomial may depend on the size of the training set. Take a smaller dataset by running, after the code in section 4.2[1]:\n",
    "\n",
    " + `X0train = Xtrain[0:55, [0]]`\n",
    " + `X0test = Xtest[0:100, [0]]`\n",
    "\n",
    "   Then, re-run the whole code after that. What is the optimal value of $g$ in that case?"
   ]
  },
  {
   "cell_type": "code",
   "execution_count": null,
   "metadata": {},
   "outputs": [],
   "source": [
    "# You do not need to code here. Just copy the value of g_opt obtained after re-running the code\n",
    "# g_opt_new = <FILL IN>\n",
    "\n",
    "print(\"The optimal value of  g for the 100-sample training set is {}\".format(g_opt_new))\n"
   ]
  },
  {
   "cell_type": "markdown",
   "metadata": {},
   "source": [
    "* [9] [OPTIONAL]   \n",
    "\n",
    "  Note that the model coefficients do not depend on $\\sigma_\\epsilon^2$. Therefore, we do not need to care about its values for polynomial ML regression.\n",
    "\n",
    "  However, the log-likelihood function do depends on $\\sigma_\\epsilon^2$. Actually, we can estimate its value by cross-validation. By simple differentiation, it is not difficult to see that the optimal ML estimate of $\\sigma_\\epsilon$ is\n",
    "\n",
    "  $$\n",
    "  \\widehat{\\sigma}_\\epsilon^2 = \\sqrt{\\frac{1}{K} \\|{\\bf s}-{\\bf Z}{\\bf w}\\|^2}\n",
    "  $$\n",
    "\n",
    "  Plot the log-likelihood function corresponding to the polynomial model with degree 3 for different values of $\\sigma_\\epsilon^2$, for the training set, and verify that the value computed with the above formula is actually optimal."
   ]
  },
  {
   "cell_type": "code",
   "execution_count": null,
   "metadata": {},
   "outputs": [],
   "source": [
    "# Explore the values of sigma logarithmically spaced according to the following array\n",
    "sigma_eps = np.logspace(-0.1, 5, num=50)\n",
    "\n",
    "g = 3\n",
    "K = len(strain)\n",
    "\n",
    "# <SOL>\n",
    "# </SOL>"
   ]
  },
  {
   "cell_type": "markdown",
   "metadata": {},
   "source": [
    "* [10] [OPTIONAL] For the selected model:\n",
    "\n",
    "    - Plot the regresion function over the scater plot of the data.\n",
    "    - Compute the log-likelihood and the SSE over the test set."
   ]
  },
  {
   "cell_type": "code",
   "execution_count": null,
   "metadata": {},
   "outputs": [],
   "source": [
    "# Note that you can easily adapt your code in 4.2[5]\n",
    "\n",
    "# <SOL>\n",
    "# </SOL>"
   ]
  },
  {
   "cell_type": "markdown",
   "metadata": {},
   "source": [
    "## 5. Bayesian regression. The stock dataset.\n",
    "\n",
    "In this section we will keep using the first component of the data from the stock dataset, assuming the same kind of plolynomial model. We will explore the potential advantages of using a Bayesian model. To do so, we will asume that the <i>a priori</i> distribution of ${\\bf w}$ is\n",
    "\n",
    "$${\\bf w} \\sim {\\cal N}({\\bf 0}, \\sigma_p^2~{\\bf I})$$\n"
   ]
  },
  {
   "cell_type": "markdown",
   "metadata": {},
   "source": [
    "### 5.1. Hyperparameter selection\n",
    "\n",
    "Since the values $\\sigma_p$ and $\\sigma_\\varepsilon$ are no longer known, a first rough estimation is needed (we will soon see how to estimate these values in a principled way).\n",
    "\n",
    "To this end, we will adjust them using the ML solution to the regression problem with g=10:\n",
    "\n",
    "   - $\\sigma_p^2$ will be taken as the average of the square values of ${\\hat {\\bf w}}_{ML}$\n",
    "   - $\\sigma_\\varepsilon^2$ will be taken as two times the average of the square of the residuals when using ${\\hat {\\bf w}}_{ML}$"
   ]
  },
  {
   "cell_type": "code",
   "execution_count": null,
   "metadata": {},
   "outputs": [],
   "source": [
    "# Degree for bayesian regression\n",
    "gb = 10\n",
    "\n",
    "# w_LS, residuals, rank, s = <FILL IN>\n",
    "\n",
    "# sigma_p = <FILL IN>\n",
    "# sigma_eps = <FILL IN>\n",
    "\n",
    "print(sigma_p)\n",
    "print(sigma_eps)"
   ]
  },
  {
   "cell_type": "markdown",
   "metadata": {},
   "source": [
    "### 5.2. Posterior pdf of the weight vector\n",
    "\n",
    "In this section we will visualize prior and the posterior distribution functions. First, we will restore the dataset at the begining of this notebook:"
   ]
  },
  {
   "cell_type": "markdown",
   "metadata": {},
   "source": [
    "* [1] Define a function `posterior_stats(Z, s, sigma_eps, sigma_p)` that computes the parameters of the posterior coefficient distribution given the dataset in matrix `Z` and vector `s`, for given values of the hyperparameters.\n",
    "This function should return the posterior mean, the covariance matrix and the precision matrix (the inverse of the covariance matrix). Test the function to the given dataset, for $g=3$."
   ]
  },
  {
   "cell_type": "code",
   "execution_count": null,
   "metadata": {},
   "outputs": [],
   "source": [
    "# <SOL>\n",
    "# </SOL>\n",
    "\n",
    "mean_w, Cov_w, iCov_w = posterior_stats(Ztrain[:, :gb+1], strain, sigma_eps, sigma_p)\n",
    "\n",
    "print('mean_w = {0}'.format(mean_w))\n",
    "# print('Cov_w = {0}'.format(Cov_w))\n",
    "# print('iCov_w = {0}'.format(iCov_w))"
   ]
  },
  {
   "cell_type": "markdown",
   "metadata": {},
   "source": [
    "* [2] Define a function `gauss_pdf(w, mean_w, iCov_w)` that computes the Gaussian pdf with mean `mean_w` and precision matrix `iCov_w`. Use this function to compute and compare the ML estimate and the MSE estimate, given the dataset."
   ]
  },
  {
   "cell_type": "code",
   "execution_count": null,
   "metadata": {},
   "outputs": [],
   "source": [
    "# <SOL>\n",
    "# </SOL>\n",
    "\n",
    "print('p(w_ML | s)  = {0}'.format(gauss_pdf(w_ML, mean_w, iCov_w)))\n",
    "print('p(w_MSE | s)  = {0}'.format(gauss_pdf(mean_w, mean_w, iCov_w)))"
   ]
  },
  {
   "cell_type": "markdown",
   "metadata": {},
   "source": [
    "* [3] [OPTIONAL] Define a function `log_gauss_pdf(w, mean_w, iCov_w)` that computes the log of the Gaussian pdf with mean `mean_w` and precision matrix `iCov_w`. Use this function to compute and compare the log of the posterior pdf value of the true coefficients, the ML estimate and the MSE estimate, given the dataset."
   ]
  },
  {
   "cell_type": "code",
   "execution_count": null,
   "metadata": {},
   "outputs": [],
   "source": [
    "# <SOL>\n",
    "# </SOL>\n",
    "\n",
    "print('log(p(w_ML | s))  = {0}'.format(log_gauss_pdf(w_ML, mean_w, iCov_w)))\n",
    "print('log(p(w_MSE | s))  = {0}'.format(log_gauss_pdf(mean_w, mean_w, iCov_w)))"
   ]
  },
  {
   "cell_type": "markdown",
   "metadata": {},
   "source": [
    "### 5.3 Sampling regression curves from the posterior\n",
    "\n",
    "In this section we will plot the functions corresponding to different samples drawn from the posterior distribution of the weight vector. \n",
    "\n",
    "To this end, we will first generate an input dataset of equally spaced samples. We will compute the functions at these points"
   ]
  },
  {
   "cell_type": "code",
   "execution_count": null,
   "metadata": {},
   "outputs": [],
   "source": [
    "# Definition of the interval for representation purposes \n",
    "xmin = min(X0train)\n",
    "xmax = max(X0train)\n",
    "n_points = 100   # Only two points are needed to plot a straigh line\n",
    "\n",
    "# Build the input data matrix:\n",
    "# Input values for representation of the regression curves\n",
    "X = np.linspace(xmin, xmax, n_points)\n",
    "Z = np.vander(X.flatten(), g_max+1, increasing=True)\n",
    "Z = nm.transform(Z)[:, :gb+1]"
   ]
  },
  {
   "cell_type": "markdown",
   "metadata": {},
   "source": [
    "Generate random vectors ${\\bf w}_l$ with $l = 1,\\dots, 50$, from the posterior density of the weights, $p({\\bf w}\\mid{\\bf s})$, and use them to generate 50 polinomial regression functions, $f({\\bf x}^\\ast) = {{\\bf z}^\\ast}^\\top {\\bf w}_l$, with ${\\bf x}^\\ast$ between $-1.2$ and $1.2$, with step $0.1$.\n",
    "\n",
    "Plot the line corresponding to the model with the posterior mean parameters, along with the $50$ generated straight lines and the original samples, all in the same plot. As you can check, the Bayesian model is not providing a single answer, but instead a density over them, from which we have extracted 50 options."
   ]
  },
  {
   "cell_type": "code",
   "execution_count": null,
   "metadata": {},
   "outputs": [],
   "source": [
    "# Drawing weights from the posterior\n",
    "for l in range(50):\n",
    "    # Generate a random sample from the posterior distribution (you can use np.random.multivariate_normal())\n",
    "    # w_l = <FILL IN>\n",
    "\n",
    "    # Compute predictions for the inputs in the data matrix\n",
    "    # p_l = <FILL IN>\n",
    "\n",
    "    # Plot prediction function\n",
    "    # plt.plot(<FILL IN>, 'c:');\n",
    "\n",
    "# Plot the training points\n",
    "plt.plot(X0train, strain,'b.',markersize=2);\n",
    "plt.xlim((xmin, xmax));\n",
    "plt.xlabel('$x$',fontsize=14);\n",
    "plt.ylabel('$s$',fontsize=14);"
   ]
  },
  {
   "cell_type": "markdown",
   "metadata": {},
   "source": [
    "### 5.4. Plotting the confidence intervals\n",
    "\n",
    "On top of the previous figure (copy here your code from the previous section), plot functions\n",
    "\n",
    "$${\\mathbb E}\\left\\{f({\\bf x}^\\ast)\\mid{\\bf s}\\right\\}$$\n",
    "\n",
    "and\n",
    "\n",
    "$${\\mathbb E}\\left\\{f({\\bf x}^\\ast)\\mid{\\bf s}\\right\\} \\pm 2 \\sqrt{{\\mathbb V}\\left\\{f({\\bf x}^\\ast)\\mid{\\bf s}\\right\\}}$$\n",
    "\n",
    "(i.e., the posterior mean of $f({\\bf x}^\\ast)$, as well as two standard deviations above and below).\n",
    "\n",
    "It is possible to show analytically that this region comprises $95.45\\%$ probability of the posterior probability $p(f({\\bf x}^\\ast)\\mid {\\bf s})$ at each ${\\bf x}^\\ast$."
   ]
  },
  {
   "cell_type": "code",
   "execution_count": null,
   "metadata": {},
   "outputs": [],
   "source": [
    "# Note that you can re-use code from sect. 4.2 to solve this exercise\n",
    "\n",
    "# Plot the training points \n",
    "# plt.plot(X, Z.dot(true_w), 'b', label='True model', linewidth=2);\n",
    "plt.plot(X0train, strain,'b.',markersize=2);\n",
    "plt.xlim(xmin, xmax);\n",
    "# </SOL>    \n",
    "\n",
    "# Plot the posterior mean.\n",
    "# mean_s = <FILL IN>\n",
    "plt.plot(X, mean_ast, 'g', label='Predictive mean', linewidth=2);\n",
    "\n",
    "# Plot the posterior mean +- two standard deviations\n",
    "# std_f = <FILL IN>\n",
    "\n",
    "# Plot the confidence intervals.\n",
    "# To do so, you can use the fill_between method\n",
    "plt.fill_between(X, (mean_s - 2*std_f).flatten(), (mean_s + 2*std_f).flatten(),\n",
    "                 alpha=0.4, edgecolor='#1B2ACC', facecolor='#089FFF', linewidth=2)\n",
    "\n",
    "# plt.legend(loc='best')\n",
    "plt.xlabel('$x$',fontsize=14);\n",
    "plt.ylabel('$s$',fontsize=14);\n",
    "plt.show()\n"
   ]
  },
  {
   "cell_type": "markdown",
   "metadata": {},
   "source": [
    "Plot now ${\\mathbb E}\\left\\{s({\\bf x}^\\ast)\\mid{\\bf s}\\right\\} \\pm 2 \\sqrt{{\\mathbb V}\\left\\{s({\\bf x}^\\ast)\\mid{\\bf s}\\right\\}}$ (note that the posterior means of $f({\\bf x}^\\ast)$ and $s({\\bf x}^\\ast)$ are the same, so there is no need to plot it again). Notice that $95.45\\%$ of observed data lie now within the newly designated region. These new limits establish a confidence range for our predictions. See how the uncertainty grows as we move away from the interpolation region to the extrapolation areas."
   ]
  },
  {
   "cell_type": "code",
   "execution_count": null,
   "metadata": {
    "scrolled": true
   },
   "outputs": [],
   "source": [
    "# Plot sample functions confidence intervals and sampling points\n",
    "# Note that you can simply copy and paste most of the code used in the cell above.\n",
    "# <SOL>\n",
    "# </SOL>\n",
    "\n",
    "plt.show()"
   ]
  },
  {
   "cell_type": "markdown",
   "metadata": {},
   "source": [
    "### 5.5. Test square error\n",
    "\n",
    "* [1] To test the regularization effect of the Bayesian prior. To do so, compute and plot the sum of square errors of both the ML and Bayesian estimates as a function of the polynomial degree.\n"
   ]
  },
  {
   "cell_type": "code",
   "execution_count": null,
   "metadata": {},
   "outputs": [],
   "source": [
    "SSE_ML = []\n",
    "SSE_Bayes = []\n",
    "\n",
    "# Compute the SSE for the ML and the bayes estimates\n",
    "for g in range(g_max + 1):\n",
    "    # <SOL>\n",
    "    # </SOL>\n",
    "\n",
    "plt.figure()\n",
    "plt.semilogy(range(g_max + 1), SSE_ML, label='ML')\n",
    "plt.semilogy(range(g_max + 1), SSE_Bayes, 'g.', label='Bayes')\n",
    "plt.xlabel('g')\n",
    "plt.ylabel('Sum of square errors')\n",
    "plt.xlim(0, g_max)\n",
    "plt.ylim(min(min(SSE_Bayes), min(SSE_ML)),10000)\n",
    "plt.legend()\n",
    "plt.show()\n"
   ]
  },
  {
   "cell_type": "markdown",
   "metadata": {},
   "source": [
    "### 5.6. [Optional] Model assessment\n",
    "\n",
    "In order to verify the performance of the resulting model, compute the posterior mean and variance of each of the test outputs from the posterior over ${\\bf w}$. I.e, compute ${\\mathbb E}\\left\\{s({\\bf x}^\\ast)\\mid{\\bf s}\\right\\}$ and $\\sqrt{{\\mathbb V}\\left\\{s({\\bf x}^\\ast)\\mid{\\bf s}\\right\\}}$ for each test sample ${\\bf x}^\\ast$ contained in each row of `Xtest`. \n",
    "\n",
    "Store the predictive mean and variance of all test samples in two column vectors called `m_s` and `v_s`, respectively."
   ]
  },
  {
   "cell_type": "code",
   "execution_count": null,
   "metadata": {
    "scrolled": false
   },
   "outputs": [],
   "source": [
    "# <SOL>\n",
    "# </SOL>"
   ]
  },
  {
   "cell_type": "markdown",
   "metadata": {},
   "source": [
    "Compute now the mean square error (MSE) and the negative log-predictive density (NLPD) with the following code:"
   ]
  },
  {
   "cell_type": "code",
   "execution_count": null,
   "metadata": {},
   "outputs": [],
   "source": [
    "# <SOL>\n",
    "# </SOL>\n",
    "\n",
    "print('MSE = {0}'.format(MSE))\n",
    "print('NLPD = {0}'.format(NLPD))"
   ]
  },
  {
   "cell_type": "markdown",
   "metadata": {},
   "source": [
    "These two measures reveal the quality of our predictor (with lower values revealing higher quality). The first measure (MSE) only compares the predictive mean with the actual value and always has a positive value (if zero was reached, it would mean a perfect prediction). It does not take into account predictive variance. The second measure (NLPD) takes into account both the deviation and the predictive variance (uncertainty) to measure the quality of the probabilistic prediction (a high error in a prediction that was already known to have high variance has a smaller penalty, but also, announcing a high variance when the prediction error is small won’t award such a good score)."
   ]
  },
  {
   "cell_type": "markdown",
   "metadata": {},
   "source": [
    "## 6. Regression with all variables from the stocks dataset.\n",
    "\n",
    "Try to improve the test SSE of the best model used so far. To do so:\n",
    "\n",
    "* Explore the use of all the input variables from the dataset.\n",
    "* Explore other regression algorithms from the `sklearn` library."
   ]
  },
  {
   "cell_type": "code",
   "execution_count": null,
   "metadata": {
    "collapsed": true
   },
   "outputs": [],
   "source": []
  }
 ],
 "metadata": {
  "anaconda-cloud": {},
  "kernelspec": {
   "display_name": "Python 3",
   "language": "python",
   "name": "python3"
  },
  "language_info": {
   "codemirror_mode": {
    "name": "ipython",
    "version": 3
   },
   "file_extension": ".py",
   "mimetype": "text/x-python",
   "name": "python",
   "nbconvert_exporter": "python",
   "pygments_lexer": "ipython3",
   "version": "3.6.4"
  }
 },
 "nbformat": 4,
 "nbformat_minor": 1
}
